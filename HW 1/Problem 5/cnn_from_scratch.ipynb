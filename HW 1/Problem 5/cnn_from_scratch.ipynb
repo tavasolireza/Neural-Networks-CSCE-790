{
 "cells": [
  {
   "cell_type": "code",
   "execution_count": 18,
   "id": "initial_id",
   "metadata": {
    "collapsed": true,
    "ExecuteTime": {
     "end_time": "2023-09-26T18:55:13.847176Z",
     "start_time": "2023-09-26T18:55:13.521303Z"
    }
   },
   "outputs": [],
   "source": [
    "import numpy as np\n",
    "import tensorflow as tf\n",
    "import pandas as pd\n",
    "import matplotlib.pyplot as plt"
   ]
  },
  {
   "cell_type": "code",
   "execution_count": 3,
   "outputs": [],
   "source": [
    "class ConvolutionLayer:\n",
    "    def __init__(self, kernel_num, kernel_size):\n",
    "        \"\"\"\n",
    "        Constructor takes as input the number of kernels and their size. I assume only squared filters of size kernel_size x kernel_size\n",
    "        \"\"\"\n",
    "        self.kernel_num = kernel_num\n",
    "        self.kernel_size = kernel_size\n",
    "        # Generate random filters of shape (kernel_num, kernel_size, kernel_size). Divide by kernel_size^2 for weight normalization\n",
    "        self.kernels = np.random.randn(kernel_num, kernel_size, kernel_size) / (kernel_size**2)\n",
    "\n",
    "    def patches_generator(self, image):\n",
    "        \"\"\"\n",
    "        Divide the input image in patches to be used during convolution.\n",
    "        Yields the tuples containing the patches and their coordinates.\n",
    "        \"\"\"\n",
    "        # Extract image height and width\n",
    "        image_h, image_w = image.shape\n",
    "        self.image = image\n",
    "        # The number of patches, given a fxf filter is h-f+1 for height and w-f+1 for width\n",
    "        for h in range(image_h-self.kernel_size+1):\n",
    "            for w in range(image_w-self.kernel_size+1):\n",
    "                patch = image[h:(h+self.kernel_size), w:(w+self.kernel_size)]\n",
    "                yield patch, h, w\n",
    "    \n",
    "    def forward_prop(self, image):\n",
    "        \"\"\"\n",
    "        Perform forward propagation for the convolutional layer.\n",
    "        \"\"\"\n",
    "        # Extract image height and width\n",
    "        image_h, image_w = image.shape\n",
    "        # Initialize the convolution output volume of the correct size\n",
    "        convolution_output = np.zeros((image_h-self.kernel_size+1, image_w-self.kernel_size+1, self.kernel_num))\n",
    "        # Unpack the generator\n",
    "        for patch, h, w in self.patches_generator(image):\n",
    "            # Perform convolution for each patch\n",
    "            convolution_output[h,w] = np.sum(patch*self.kernels, axis=(1,2))\n",
    "        return convolution_output\n",
    "    \n",
    "    def back_prop(self, dE_dY, alpha):\n",
    "        \"\"\"\n",
    "        Takes the gradient of the loss function with respect to the output and computes the gradients of the loss function with respect\n",
    "        to the kernels' weights.\n",
    "        dE_dY comes from the following layer, typically max pooling layer.\n",
    "        It updates the kernels' weights\n",
    "        \"\"\"\n",
    "        # Initialize gradient of the loss function with respect to the kernel weights\n",
    "        dE_dk = np.zeros(self.kernels.shape)\n",
    "        for patch, h, w in self.patches_generator(self.image):\n",
    "            for f in range(self.kernel_num):\n",
    "                dE_dk[f] += patch * dE_dY[h, w, f]\n",
    "        # Update the parameters\n",
    "        self.kernels -= alpha*dE_dk\n",
    "        return dE_dk\n"
   ],
   "metadata": {
    "collapsed": false,
    "ExecuteTime": {
     "end_time": "2023-09-26T18:17:26.416803Z",
     "start_time": "2023-09-26T18:17:26.411830Z"
    }
   },
   "id": "1160e513ef9cfedd"
  },
  {
   "cell_type": "code",
   "execution_count": 4,
   "outputs": [],
   "source": [
    "class MaxPoolingLayer:\n",
    "    def __init__(self, kernel_size):\n",
    "        \"\"\"\n",
    "        Constructor takes as input the size of the kernel\n",
    "        \"\"\"\n",
    "        self.kernel_size = kernel_size\n",
    "\n",
    "    def patches_generator(self, image):\n",
    "        \"\"\"\n",
    "        Divide the input image in patches to be used during pooling.\n",
    "        Yields the tuples containing the patches and their coordinates.\n",
    "        \"\"\"\n",
    "        # Compute the ouput size\n",
    "        output_h = image.shape[0] // self.kernel_size\n",
    "        output_w = image.shape[1] // self.kernel_size\n",
    "        self.image = image\n",
    "\n",
    "        for h in range(output_h):\n",
    "            for w in range(output_w):\n",
    "                patch = image[(h*self.kernel_size):(h*self.kernel_size+self.kernel_size), (w*self.kernel_size):(w*self.kernel_size+self.kernel_size)]\n",
    "                yield patch, h, w\n",
    "\n",
    "    def forward_prop(self, image):\n",
    "        image_h, image_w, num_kernels = image.shape\n",
    "        max_pooling_output = np.zeros((image_h//self.kernel_size, image_w//self.kernel_size, num_kernels))\n",
    "        for patch, h, w in self.patches_generator(image):\n",
    "            max_pooling_output[h,w] = np.amax(patch, axis=(0,1))\n",
    "        return max_pooling_output\n",
    "\n",
    "    def back_prop(self, dE_dY):\n",
    "        \"\"\"\n",
    "        Takes the gradient of the loss function with respect to the output and computes the gradients of the loss function with respect\n",
    "        to the kernels' weights.\n",
    "        dE_dY comes from the following layer, typically softmax.\n",
    "        There are no weights to update, but the output is needed to update the weights of the convolutional layer.\n",
    "        \"\"\"\n",
    "        dE_dk = np.zeros(self.image.shape)\n",
    "        for patch,h,w in self.patches_generator(self.image):\n",
    "            image_h, image_w, num_kernels = patch.shape\n",
    "            max_val = np.amax(patch, axis=(0,1))\n",
    "\n",
    "            for idx_h in range(image_h):\n",
    "                for idx_w in range(image_w):\n",
    "                    for idx_k in range(num_kernels):\n",
    "                        if patch[idx_h,idx_w,idx_k] == max_val[idx_k]:\n",
    "                            dE_dk[h*self.kernel_size+idx_h, w*self.kernel_size+idx_w, idx_k] = dE_dY[h,w,idx_k]\n",
    "        return dE_dk\n"
   ],
   "metadata": {
    "collapsed": false,
    "ExecuteTime": {
     "end_time": "2023-09-26T18:17:46.759221Z",
     "start_time": "2023-09-26T18:17:46.751779Z"
    }
   },
   "id": "9e23a08e36a34c6b"
  },
  {
   "cell_type": "code",
   "execution_count": 5,
   "outputs": [],
   "source": [
    "class SoftmaxLayer:\n",
    "    \"\"\"\n",
    "    Takes the volume coming from convolutional & pooling layers. It flattens it and it uses it in the next layers.\n",
    "    \"\"\"\n",
    "    def __init__(self, input_units, output_units):\n",
    "        # Initiallize weights and biases\n",
    "        self.weight = np.random.randn(input_units, output_units)/input_units\n",
    "        self.bias = np.zeros(output_units)\n",
    "\n",
    "    def forward_prop(self, image):\n",
    "        self.original_shape = image.shape # stored for backprop\n",
    "        # Flatten the image\n",
    "        image_flattened = image.flatten()\n",
    "        self.flattened_input = image_flattened # stored for backprop\n",
    "        # Perform matrix multiplication and add bias\n",
    "        first_output = np.dot(image_flattened, self.weight) + self.bias\n",
    "        self.output = first_output\n",
    "        # Apply softmax activation\n",
    "        softmax_output = np.exp(first_output) / np.sum(np.exp(first_output), axis=0)\n",
    "        return softmax_output\n",
    "\n",
    "    def back_prop(self, dE_dY, alpha):\n",
    "        for i, gradient in enumerate(dE_dY):\n",
    "            if gradient == 0:\n",
    "                continue\n",
    "            transformation_eq = np.exp(self.output)\n",
    "            S_total = np.sum(transformation_eq)\n",
    "\n",
    "            # Compute gradients with respect to output (Z)\n",
    "            dY_dZ = -transformation_eq[i]*transformation_eq / (S_total**2)\n",
    "            dY_dZ[i] = transformation_eq[i]*(S_total - transformation_eq[i]) / (S_total**2)\n",
    "\n",
    "            # Compute gradients of output Z with respect to weight, bias, input\n",
    "            dZ_dw = self.flattened_input\n",
    "            dZ_db = 1\n",
    "            dZ_dX = self.weight\n",
    "\n",
    "            # Gradient of loss with respect ot output\n",
    "            dE_dZ = gradient * dY_dZ\n",
    "\n",
    "            # Gradient of loss with respect to weight, bias, input\n",
    "            dE_dw = dZ_dw[np.newaxis].T @ dE_dZ[np.newaxis]\n",
    "            dE_db = dE_dZ * dZ_db\n",
    "            dE_dX = dZ_dX @ dE_dZ\n",
    "\n",
    "            # Update parameters\n",
    "            self.weight -= alpha*dE_dw\n",
    "            self.bias -= alpha*dE_db\n",
    "\n",
    "            return dE_dX.reshape(self.original_shape)\n"
   ],
   "metadata": {
    "collapsed": false,
    "ExecuteTime": {
     "end_time": "2023-09-26T18:18:05.527810Z",
     "start_time": "2023-09-26T18:18:05.519719Z"
    }
   },
   "id": "1be849dac31bce1b"
  },
  {
   "cell_type": "code",
   "execution_count": 6,
   "outputs": [],
   "source": [
    "def CNN_forward(image, label, layers):\n",
    "    output = image/255.\n",
    "    for layer in layers:\n",
    "        output = layer.forward_prop(output)\n",
    "    # Compute loss (cross-entropy) and accuracy\n",
    "    loss = -np.log(output[label])\n",
    "    accuracy = 1 if np.argmax(output) == label else 0\n",
    "    return output, loss, accuracy\n",
    "\n",
    "def CNN_backprop(gradient, layers, alpha=0.05):\n",
    "    grad_back = gradient\n",
    "    for layer in layers[::-1]:\n",
    "        if type(layer) in [ConvolutionLayer, SoftmaxLayer]:\n",
    "            grad_back = layer.back_prop(grad_back, alpha)\n",
    "        elif type(layer) == MaxPoolingLayer:\n",
    "            grad_back = layer.back_prop(grad_back)\n",
    "    return grad_back\n",
    "\n",
    "\n",
    "def CNN_training(image, label, layers, alpha=0.05):\n",
    "    # Forward step\n",
    "    output, loss, accuracy = CNN_forward(image, label, layers)\n",
    "\n",
    "    # Initial gradient\n",
    "    gradient = np.zeros(10)\n",
    "    gradient[label] = -1/output[label]\n",
    "\n",
    "    # Backprop step\n",
    "    gradient_back = CNN_backprop(gradient, layers, alpha)\n",
    "\n",
    "    return loss, accuracy"
   ],
   "metadata": {
    "collapsed": false,
    "ExecuteTime": {
     "end_time": "2023-09-26T18:18:45.997752Z",
     "start_time": "2023-09-26T18:18:45.988411Z"
    }
   },
   "id": "da1fd0fdb7234e64"
  },
  {
   "cell_type": "code",
   "execution_count": 15,
   "outputs": [],
   "source": [
    "def main():\n",
    "  # Load training data\n",
    "  (X_train, y_train), (X_test, y_test) = tf.keras.datasets.mnist.load_data()\n",
    "  X_train = X_train[:2500]\n",
    "  y_train = y_train[:2500]\n",
    "\n",
    "  # Define the network\n",
    "  layers = [\n",
    "    ConvolutionLayer(16,3), # layer with 8 3x3 filters, output (26,26,16)\n",
    "    MaxPoolingLayer(2), # pooling layer 2x2, output (13,13,16)\n",
    "    SoftmaxLayer(13*13*16, 10) # softmax layer with 13*13*16 input and 10 output\n",
    "    ] \n",
    "\n",
    "  for epoch in range(4):\n",
    "    print('Epoch {} ->'.format(epoch+1))\n",
    "    # Shuffle training data\n",
    "    permutation = np.random.permutation(len(X_train))\n",
    "    X_train = X_train[permutation]\n",
    "    y_train = y_train[permutation]\n",
    "    # Training the CNN\n",
    "    loss = 0\n",
    "    accuracy = 0\n",
    "    for i, (image, label) in enumerate(zip(X_train, y_train)):\n",
    "      if i % 100 == 0: # Every 100 examples\n",
    "        print(\"Step {}. For the last 100 steps: average loss {}, accuracy {}\".format(i+1, loss/100, accuracy))\n",
    "        loss = 0\n",
    "        accuracy = 0\n",
    "      loss_1, accuracy_1 = CNN_training(image, label, layers)\n",
    "      loss += loss_1\n",
    "      accuracy += accuracy_1"
   ],
   "metadata": {
    "collapsed": false,
    "ExecuteTime": {
     "end_time": "2023-09-26T18:48:45.222793Z",
     "start_time": "2023-09-26T18:48:45.221363Z"
    }
   },
   "id": "2985196bdf8cce65"
  },
  {
   "cell_type": "code",
   "execution_count": 16,
   "outputs": [],
   "source": [
    "# This is added to fix URL fetch failure\n",
    "import requests\n",
    "requests.packages.urllib3.disable_warnings()\n",
    "import ssl\n",
    "\n",
    "try:\n",
    "    _create_unverified_https_context = ssl._create_unverified_context\n",
    "except AttributeError:\n",
    "    # Legacy Python that doesn't verify HTTPS certificates by default\n",
    "    pass\n",
    "else:\n",
    "    # Handle target environment that doesn't support HTTPS verification\n",
    "    ssl._create_default_https_context = _create_unverified_https_context"
   ],
   "metadata": {
    "collapsed": false,
    "ExecuteTime": {
     "end_time": "2023-09-26T18:48:46.045865Z",
     "start_time": "2023-09-26T18:48:46.041438Z"
    }
   },
   "id": "7eef71b24468c4f"
  },
  {
   "cell_type": "code",
   "execution_count": 17,
   "outputs": [
    {
     "name": "stdout",
     "output_type": "stream",
     "text": [
      "Epoch 1 ->\n",
      "Step 1. For the last 100 steps: average loss 0.0, accuracy 0\n",
      "Step 101. For the last 100 steps: average loss 1.881182461509699, accuracy 36\n",
      "Step 201. For the last 100 steps: average loss 1.1158947472156788, accuracy 68\n",
      "Step 301. For the last 100 steps: average loss 0.9520293819252295, accuracy 71\n",
      "Step 401. For the last 100 steps: average loss 0.5226440375998199, accuracy 83\n",
      "Step 501. For the last 100 steps: average loss 0.7604190278273356, accuracy 76\n",
      "Step 601. For the last 100 steps: average loss 0.5537376275159218, accuracy 87\n",
      "Step 701. For the last 100 steps: average loss 0.7025949952403755, accuracy 74\n",
      "Step 801. For the last 100 steps: average loss 0.3393584946666091, accuracy 89\n",
      "Step 901. For the last 100 steps: average loss 0.6612627622636864, accuracy 75\n",
      "Step 1001. For the last 100 steps: average loss 0.7425784308763299, accuracy 81\n",
      "Step 1101. For the last 100 steps: average loss 0.8266106784090809, accuracy 79\n",
      "Step 1201. For the last 100 steps: average loss 0.6682429129395488, accuracy 82\n",
      "Step 1301. For the last 100 steps: average loss 0.42213656261602794, accuracy 87\n",
      "Step 1401. For the last 100 steps: average loss 0.5135215699176179, accuracy 86\n",
      "Step 1501. For the last 100 steps: average loss 0.42872947019067814, accuracy 91\n",
      "Step 1601. For the last 100 steps: average loss 0.8196319703148531, accuracy 82\n",
      "Step 1701. For the last 100 steps: average loss 0.5939682873426573, accuracy 84\n",
      "Step 1801. For the last 100 steps: average loss 0.5852156113545404, accuracy 84\n",
      "Step 1901. For the last 100 steps: average loss 0.511170613035071, accuracy 89\n",
      "Step 2001. For the last 100 steps: average loss 1.3163874913150304, accuracy 76\n",
      "Step 2101. For the last 100 steps: average loss 1.605800177479195, accuracy 75\n",
      "Step 2201. For the last 100 steps: average loss 0.8456229550540428, accuracy 79\n",
      "Step 2301. For the last 100 steps: average loss 0.4763160757248326, accuracy 89\n",
      "Step 2401. For the last 100 steps: average loss 0.44153681418141594, accuracy 91\n",
      "Epoch 2 ->\n",
      "Step 1. For the last 100 steps: average loss 0.0, accuracy 0\n",
      "Step 101. For the last 100 steps: average loss 0.22558871560872798, accuracy 95\n",
      "Step 201. For the last 100 steps: average loss 0.5173546220523272, accuracy 87\n",
      "Step 301. For the last 100 steps: average loss 0.84790542265637, accuracy 82\n",
      "Step 401. For the last 100 steps: average loss 0.838867656172819, accuracy 85\n",
      "Step 501. For the last 100 steps: average loss 0.9835661982013064, accuracy 86\n",
      "Step 601. For the last 100 steps: average loss 1.0814679847017743, accuracy 78\n",
      "Step 701. For the last 100 steps: average loss 0.7693354644904278, accuracy 85\n",
      "Step 801. For the last 100 steps: average loss 1.1508567171285375, accuracy 80\n",
      "Step 901. For the last 100 steps: average loss 1.4219569769609053, accuracy 78\n",
      "Step 1001. For the last 100 steps: average loss 1.1083134671770094, accuracy 80\n",
      "Step 1101. For the last 100 steps: average loss 0.5706808472980532, accuracy 90\n",
      "Step 1201. For the last 100 steps: average loss 0.8995030818630124, accuracy 83\n",
      "Step 1301. For the last 100 steps: average loss 1.2425103694926052, accuracy 82\n",
      "Step 1401. For the last 100 steps: average loss 0.48890675013744966, accuracy 86\n",
      "Step 1501. For the last 100 steps: average loss 1.4740059981898959, accuracy 78\n",
      "Step 1601. For the last 100 steps: average loss 0.9056298558803824, accuracy 83\n",
      "Step 1701. For the last 100 steps: average loss 0.7010823332177512, accuracy 89\n",
      "Step 1801. For the last 100 steps: average loss 0.5446295117810623, accuracy 91\n",
      "Step 1901. For the last 100 steps: average loss 1.59855137188321, accuracy 85\n",
      "Step 2001. For the last 100 steps: average loss 0.8743999145196103, accuracy 86\n",
      "Step 2101. For the last 100 steps: average loss 1.4067984603949275, accuracy 84\n",
      "Step 2201. For the last 100 steps: average loss 1.336935255341019, accuracy 81\n",
      "Step 2301. For the last 100 steps: average loss 1.8595319158129127, accuracy 85\n",
      "Step 2401. For the last 100 steps: average loss 1.6230480481004188, accuracy 76\n",
      "Epoch 3 ->\n",
      "Step 1. For the last 100 steps: average loss 0.0, accuracy 0\n",
      "Step 101. For the last 100 steps: average loss 1.387241155517153, accuracy 87\n",
      "Step 201. For the last 100 steps: average loss 1.413894553937709, accuracy 85\n",
      "Step 301. For the last 100 steps: average loss 1.5333870556881297, accuracy 81\n",
      "Step 401. For the last 100 steps: average loss 2.61136388427541, accuracy 85\n",
      "Step 501. For the last 100 steps: average loss 1.9140446748124893, accuracy 88\n",
      "Step 601. For the last 100 steps: average loss 1.7880639847956694, accuracy 85\n",
      "Step 701. For the last 100 steps: average loss 1.9810638414068953, accuracy 81\n",
      "Step 801. For the last 100 steps: average loss 2.2074644863164226, accuracy 84\n",
      "Step 901. For the last 100 steps: average loss 2.8459714951067423, accuracy 81\n",
      "Step 1001. For the last 100 steps: average loss 2.3888214109781263, accuracy 82\n",
      "Step 1101. For the last 100 steps: average loss 3.8283118523148647, accuracy 80\n",
      "Step 1201. For the last 100 steps: average loss 2.5754703732124926, accuracy 86\n",
      "Step 1301. For the last 100 steps: average loss 1.6388716442589948, accuracy 87\n",
      "Step 1401. For the last 100 steps: average loss 4.52966032851518, accuracy 81\n",
      "Step 1501. For the last 100 steps: average loss 5.2037224805946805, accuracy 77\n",
      "Step 1601. For the last 100 steps: average loss 5.712681358518342, accuracy 81\n",
      "Step 1701. For the last 100 steps: average loss 3.0811202383701146, accuracy 88\n",
      "Step 1801. For the last 100 steps: average loss 6.391083830681878, accuracy 81\n",
      "Step 1901. For the last 100 steps: average loss 6.682469640776253, accuracy 85\n",
      "Step 2001. For the last 100 steps: average loss 5.240793625494873, accuracy 84\n",
      "Step 2101. For the last 100 steps: average loss 6.178751318326898, accuracy 79\n"
     ]
    },
    {
     "name": "stderr",
     "output_type": "stream",
     "text": [
      "/var/folders/q5/qkg51wtd7t74xfnj9v271xfw0000gn/T/ipykernel_20345/366449221.py:30: RuntimeWarning: overflow encountered in multiply\n",
      "  dY_dZ = -transformation_eq[i]*transformation_eq / (S_total**2)\n",
      "/var/folders/q5/qkg51wtd7t74xfnj9v271xfw0000gn/T/ipykernel_20345/366449221.py:30: RuntimeWarning: overflow encountered in double_scalars\n",
      "  dY_dZ = -transformation_eq[i]*transformation_eq / (S_total**2)\n",
      "/var/folders/q5/qkg51wtd7t74xfnj9v271xfw0000gn/T/ipykernel_20345/366449221.py:30: RuntimeWarning: invalid value encountered in divide\n",
      "  dY_dZ = -transformation_eq[i]*transformation_eq / (S_total**2)\n",
      "/var/folders/q5/qkg51wtd7t74xfnj9v271xfw0000gn/T/ipykernel_20345/366449221.py:31: RuntimeWarning: overflow encountered in double_scalars\n",
      "  dY_dZ[i] = transformation_eq[i]*(S_total - transformation_eq[i]) / (S_total**2)\n"
     ]
    },
    {
     "name": "stdout",
     "output_type": "stream",
     "text": [
      "Step 2201. For the last 100 steps: average loss 11.853030673454452, accuracy 77\n",
      "Step 2301. For the last 100 steps: average loss 8.958508694144209, accuracy 81\n",
      "Step 2401. For the last 100 steps: average loss 10.788597437841297, accuracy 72\n",
      "Epoch 4 ->\n",
      "Step 1. For the last 100 steps: average loss 0.0, accuracy 0\n",
      "Step 101. For the last 100 steps: average loss 4.640158695525198, accuracy 85\n",
      "Step 201. For the last 100 steps: average loss 8.065917270784034, accuracy 85\n",
      "Step 301. For the last 100 steps: average loss 13.708092758455189, accuracy 79\n",
      "Step 401. For the last 100 steps: average loss 17.663703110178222, accuracy 81\n",
      "Step 501. For the last 100 steps: average loss nan, accuracy 61\n",
      "Step 601. For the last 100 steps: average loss nan, accuracy 5\n",
      "Step 701. For the last 100 steps: average loss nan, accuracy 7\n",
      "Step 801. For the last 100 steps: average loss nan, accuracy 7\n",
      "Step 901. For the last 100 steps: average loss nan, accuracy 14\n",
      "Step 1001. For the last 100 steps: average loss nan, accuracy 10\n",
      "Step 1101. For the last 100 steps: average loss nan, accuracy 10\n",
      "Step 1201. For the last 100 steps: average loss nan, accuracy 15\n",
      "Step 1301. For the last 100 steps: average loss nan, accuracy 11\n",
      "Step 1401. For the last 100 steps: average loss nan, accuracy 8\n",
      "Step 1501. For the last 100 steps: average loss nan, accuracy 8\n",
      "Step 1601. For the last 100 steps: average loss nan, accuracy 10\n",
      "Step 1701. For the last 100 steps: average loss nan, accuracy 7\n",
      "Step 1801. For the last 100 steps: average loss nan, accuracy 10\n",
      "Step 1901. For the last 100 steps: average loss nan, accuracy 13\n",
      "Step 2001. For the last 100 steps: average loss nan, accuracy 11\n",
      "Step 2101. For the last 100 steps: average loss nan, accuracy 12\n",
      "Step 2201. For the last 100 steps: average loss nan, accuracy 9\n",
      "Step 2301. For the last 100 steps: average loss nan, accuracy 7\n",
      "Step 2401. For the last 100 steps: average loss nan, accuracy 9\n"
     ]
    }
   ],
   "source": [
    "# I could not run the training part of the code\n",
    "if __name__ == '__main__':\n",
    "  main()"
   ],
   "metadata": {
    "collapsed": false,
    "ExecuteTime": {
     "end_time": "2023-09-26T18:53:35.538558Z",
     "start_time": "2023-09-26T18:48:46.439890Z"
    }
   },
   "id": "6f239c4322b27ebf"
  },
  {
   "cell_type": "code",
   "execution_count": 52,
   "outputs": [
    {
     "data": {
      "text/plain": "<Figure size 640x480 with 1 Axes>",
      "image/png": "[encoded data removed]"
     },
     "metadata": {},
     "output_type": "display_data"
    },
    {
     "name": "stdout",
     "output_type": "stream",
     "text": [
      "(28, 28)\n"
     ]
    }
   ],
   "source": [
    "df_train = pd.read_csv('train.csv')\n",
    "img = df_train.iloc[40,:].values[1:]\n",
    "img = np.reshape(img,(28,28))\n",
    "plt.imshow(img, cmap='gray')\n",
    "caption = \"Original Image\"\n",
    "caption_x = img.shape[1] / 2 - len(caption) *0.09 \n",
    "caption_y = img.shape[0] + 2.5  \n",
    "plt.text(caption_x, caption_y, caption, fontsize=12, color='black', ha='center') \n",
    "plt.savefig('./original_image.png', format='png', dpi=1200)\n",
    "plt.show()\n",
    "print(img.shape)\n"
   ],
   "metadata": {
    "collapsed": false,
    "ExecuteTime": {
     "end_time": "2023-09-26T19:08:35.466Z",
     "start_time": "2023-09-26T19:08:31.838807Z"
    }
   },
   "id": "f8698ee323edc2f5"
  },
  {
   "cell_type": "code",
   "execution_count": 55,
   "outputs": [
    {
     "name": "stdout",
     "output_type": "stream",
     "text": [
      "(26, 26, 32)\n"
     ]
    },
    {
     "data": {
      "text/plain": "<Figure size 640x480 with 1 Axes>",
      "image/png": "[encoded data removed]"
     },
     "metadata": {},
     "output_type": "display_data"
    }
   ],
   "source": [
    "# Test with a convolution of 16 filters of size 3x3\n",
    "my_conv = ConvolutionLayer(32,3)\n",
    "output = my_conv.forward_prop(img)\n",
    "# See the dimensions of the output volume, they follow the usual formula\n",
    "print(output.shape)\n",
    "\n",
    "# Plot 16th volume after the convolution\n",
    "plt.imshow(output[:,:,15], cmap='gray')\n",
    "caption = \"Image after convolution\"\n",
    "caption_x = img.shape[1] / 2 - len(caption) *0.09 \n",
    "caption_y = img.shape[0] + 0.75  \n",
    "plt.text(caption_x, caption_y, caption, fontsize=12, color='black', ha='center') \n",
    "plt.savefig('./image_convolved.png', format='png', dpi=1200)\n",
    "plt.show()\n"
   ],
   "metadata": {
    "collapsed": false,
    "ExecuteTime": {
     "end_time": "2023-09-26T19:09:17.474693Z",
     "start_time": "2023-09-26T19:09:14.499729Z"
    }
   },
   "id": "2929bc078d4d729"
  },
  {
   "cell_type": "code",
   "execution_count": null,
   "outputs": [],
   "source": [],
   "metadata": {
    "collapsed": false
   },
   "id": "8993d3d6f8600e05"
  }
 ],
 "metadata": {
  "kernelspec": {
   "display_name": "Python 3",
   "language": "python",
   "name": "python3"
  },
  "language_info": {
   "codemirror_mode": {
    "name": "ipython",
    "version": 2
   },
   "file_extension": ".py",
   "mimetype": "text/x-python",
   "name": "python",
   "nbconvert_exporter": "python",
   "pygments_lexer": "ipython2",
   "version": "2.7.6"
  }
 },
 "nbformat": 4,
 "nbformat_minor": 5
}
