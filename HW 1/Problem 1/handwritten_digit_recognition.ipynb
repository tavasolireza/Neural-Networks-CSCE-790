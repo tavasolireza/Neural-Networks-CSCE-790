{
 "cells": [
  {
   "cell_type": "code",
   "execution_count": 1,
   "id": "initial_id",
   "metadata": {
    "ExecuteTime": {
     "end_time": "2023-09-25T20:21:34.629837Z",
     "start_time": "2023-09-25T20:21:34.623089Z"
    }
   },
   "outputs": [],
   "source": [
    "import numpy as np\n",
    "import torch\n",
    "import torchvision\n",
    "import matplotlib.pyplot as plt\n",
    "from time import time\n",
    "from torchvision import datasets, transforms\n",
    "from torch import nn, optim"
   ]
  },
  {
   "cell_type": "code",
   "execution_count": 2,
   "id": "bf50531b70b60a6",
   "metadata": {
    "ExecuteTime": {
     "end_time": "2023-09-25T19:59:13.732850Z",
     "start_time": "2023-09-25T19:59:13.708238Z"
    },
    "collapsed": false,
    "jupyter": {
     "outputs_hidden": false
    }
   },
   "outputs": [],
   "source": [
    "transform = transforms.Compose([transforms.ToTensor(),\n",
    "                              transforms.Normalize((0.5,), (0.5,)),\n",
    "                              ])"
   ]
  },
  {
   "cell_type": "code",
   "execution_count": 3,
   "id": "f54e3630dedf9c67",
   "metadata": {
    "ExecuteTime": {
     "end_time": "2023-09-25T19:59:13.752929Z",
     "start_time": "2023-09-25T19:59:13.712186Z"
    },
    "collapsed": false,
    "jupyter": {
     "outputs_hidden": false
    }
   },
   "outputs": [],
   "source": [
    "trainset = datasets.MNIST('dataset/train', download=True, train=True, transform=transform)\n",
    "valset = datasets.MNIST('dataset/test', download=True, train=False, transform=transform)\n",
    "trainloader = torch.utils.data.DataLoader(trainset, batch_size=64, shuffle=True)\n",
    "valloader = torch.utils.data.DataLoader(valset, batch_size=64, shuffle=True)"
   ]
  },
  {
   "cell_type": "code",
   "execution_count": 4,
   "id": "9e1d9129987490f5",
   "metadata": {
    "ExecuteTime": {
     "end_time": "2023-09-25T19:59:13.753252Z",
     "start_time": "2023-09-25T19:59:13.736867Z"
    },
    "collapsed": false,
    "jupyter": {
     "outputs_hidden": false
    }
   },
   "outputs": [
    {
     "name": "stdout",
     "output_type": "stream",
     "text": [
      "torch.Size([64, 1, 28, 28])\n",
      "torch.Size([64])\n"
     ]
    }
   ],
   "source": [
    "dataiter = iter(trainloader)\n",
    "images, labels = dataiter.next()\n",
    "\n",
    "print(images.shape)\n",
    "print(labels.shape)"
   ]
  },
  {
   "cell_type": "code",
   "execution_count": 5,
   "id": "1655d1b3a23da4c",
   "metadata": {
    "ExecuteTime": {
     "end_time": "2023-09-25T19:59:13.807901Z",
     "start_time": "2023-09-25T19:59:13.746650Z"
    },
    "collapsed": false,
    "jupyter": {
     "outputs_hidden": false
    }
   },
   "outputs": [
    {
     "data": {
      "image/png": "[encoded data removed]",
      "text/plain": [
       "<Figure size 640x480 with 1 Axes>"
      ]
     },
     "metadata": {},
     "output_type": "display_data"
    }
   ],
   "source": [
    "plt.imshow(images[45].numpy().squeeze(), cmap='gray_r');"
   ]
  },
  {
   "cell_type": "code",
   "execution_count": 6,
   "id": "397601fcc68bd83f",
   "metadata": {
    "ExecuteTime": {
     "end_time": "2023-09-25T19:59:13.936113Z",
     "start_time": "2023-09-25T19:59:13.834083Z"
    },
    "collapsed": false,
    "jupyter": {
     "outputs_hidden": false
    }
   },
   "outputs": [
    {
     "data": {
      "image/png": "[encoded data removed]",
      "text/plain": [
       "<Figure size 640x480 with 15 Axes>"
      ]
     },
     "metadata": {},
     "output_type": "display_data"
    }
   ],
   "source": [
    "figure = plt.figure()\n",
    "num_of_images = 15\n",
    "for index in range(1, num_of_images + 1):\n",
    "    plt.subplot(3, 5, index)\n",
    "    plt.axis('off')\n",
    "    plt.imshow(images[index].numpy().squeeze(), cmap='gray_r')"
   ]
  },
  {
   "cell_type": "code",
   "execution_count": 7,
   "id": "ae8186d207ba8586",
   "metadata": {
    "ExecuteTime": {
     "end_time": "2023-09-25T19:59:13.936351Z",
     "start_time": "2023-09-25T19:59:13.932992Z"
    },
    "collapsed": false,
    "jupyter": {
     "outputs_hidden": false
    }
   },
   "outputs": [
    {
     "name": "stdout",
     "output_type": "stream",
     "text": [
      "Sequential(\n",
      "  (0): Linear(in_features=784, out_features=512, bias=True)\n",
      "  (1): ReLU()\n",
      "  (2): Linear(in_features=512, out_features=256, bias=True)\n",
      "  (3): ReLU()\n",
      "  (4): Linear(in_features=256, out_features=10, bias=True)\n",
      "  (5): LogSoftmax(dim=1)\n",
      ")\n"
     ]
    }
   ],
   "source": [
    "input_size = 784\n",
    "hidden_sizes = [512, 256]\n",
    "output_size = 10\n",
    "\n",
    "model = nn.Sequential(nn.Linear(input_size, hidden_sizes[0]),\n",
    "                      nn.ReLU(),\n",
    "                      nn.Linear(hidden_sizes[0], hidden_sizes[1]),\n",
    "                      nn.ReLU(),\n",
    "                      nn.Linear(hidden_sizes[1], output_size),\n",
    "                      nn.LogSoftmax(dim=1))\n",
    "print(model)"
   ]
  },
  {
   "cell_type": "code",
   "execution_count": 8,
   "id": "7f7773ac2d5cc9b5",
   "metadata": {
    "ExecuteTime": {
     "end_time": "2023-09-25T19:59:13.944310Z",
     "start_time": "2023-09-25T19:59:13.936906Z"
    },
    "collapsed": false,
    "jupyter": {
     "outputs_hidden": false
    }
   },
   "outputs": [],
   "source": [
    "criterion = nn.NLLLoss()\n",
    "images, labels = next(iter(trainloader))\n",
    "images = images.view(images.shape[0], -1)\n",
    "\n",
    "logps = model(images) #log probabilities\n",
    "loss = criterion(logps, labels) #calculate the NLL loss"
   ]
  },
  {
   "cell_type": "code",
   "execution_count": 9,
   "id": "d852ac4655e73f4e",
   "metadata": {
    "ExecuteTime": {
     "end_time": "2023-09-25T19:59:13.949665Z",
     "start_time": "2023-09-25T19:59:13.944755Z"
    },
    "collapsed": false,
    "jupyter": {
     "outputs_hidden": false
    }
   },
   "outputs": [
    {
     "data": {
      "text/plain": [
       "torch.Size([64, 784])"
      ]
     },
     "execution_count": 9,
     "metadata": {},
     "output_type": "execute_result"
    }
   ],
   "source": [
    "images.shape"
   ]
  },
  {
   "cell_type": "code",
   "execution_count": 10,
   "id": "73b225c1fa06c321",
   "metadata": {
    "ExecuteTime": {
     "end_time": "2023-09-25T19:59:13.954777Z",
     "start_time": "2023-09-25T19:59:13.947855Z"
    },
    "collapsed": false,
    "jupyter": {
     "outputs_hidden": false
    }
   },
   "outputs": [
    {
     "name": "stdout",
     "output_type": "stream",
     "text": [
      "Before backward pass: \n",
      " None\n",
      "After backward pass: \n",
      " tensor([[-0.0008, -0.0008, -0.0008,  ..., -0.0008, -0.0008, -0.0008],\n",
      "        [-0.0022, -0.0022, -0.0022,  ..., -0.0022, -0.0022, -0.0022],\n",
      "        [ 0.0005,  0.0005,  0.0005,  ...,  0.0005,  0.0005,  0.0005],\n",
      "        ...,\n",
      "        [-0.0022, -0.0022, -0.0022,  ..., -0.0022, -0.0022, -0.0022],\n",
      "        [ 0.0028,  0.0028,  0.0028,  ...,  0.0028,  0.0028,  0.0028],\n",
      "        [ 0.0016,  0.0016,  0.0016,  ...,  0.0016,  0.0016,  0.0016]])\n"
     ]
    },
    {
     "name": "stderr",
     "output_type": "stream",
     "text": [
      "2023-09-25 16:30:26.390 Python[6391:181556] apply_selection_policy_once: avoid use of removable GPUs (via org.python.python:GPUSelectionPolicy->avoidRemovable)\n"
     ]
    }
   ],
   "source": [
    "print('Before backward pass: \\n', model[0].weight.grad)\n",
    "loss.backward()\n",
    "print('After backward pass: \\n', model[0].weight.grad)"
   ]
  },
  {
   "cell_type": "code",
   "execution_count": null,
   "id": "3b05e24bed3e4e2d",
   "metadata": {
    "ExecuteTime": {
     "end_time": "2023-09-25T20:12:42.304174Z",
     "start_time": "2023-09-25T20:12:42.290992Z"
    },
    "collapsed": false,
    "jupyter": {
     "outputs_hidden": false
    }
   },
   "outputs": [],
   "source": [
    "training_loss = []\n",
    "validation_accuracy = []"
   ]
  },
  {
   "cell_type": "code",
   "execution_count": null,
   "id": "ce574c9c5b63ea2",
   "metadata": {
    "ExecuteTime": {
     "end_time": "2023-09-25T20:13:51.862859Z",
     "start_time": "2023-09-25T20:13:00.547734Z"
    },
    "collapsed": false,
    "jupyter": {
     "outputs_hidden": false
    }
   },
   "outputs": [],
   "source": [
    "optimizer = optim.SGD(model.parameters(), lr=0.003, momentum=0.9)\n",
    "time0 = time()\n",
    "epochs = 15\n",
    "for e in range(epochs):\n",
    "    running_loss = 0\n",
    "    for images, labels in trainloader:\n",
    "        # Flatten MNIST images into a 784 long vector\n",
    "        images = images.view(images.shape[0], -1)\n",
    "    \n",
    "        # Training pass\n",
    "        optimizer.zero_grad()\n",
    "        \n",
    "        output = model(images)\n",
    "        loss = criterion(output, labels)\n",
    "        \n",
    "        #This is where the model learns by backpropagating\n",
    "        loss.backward()\n",
    "        \n",
    "        #And optimizes its weights here\n",
    "        optimizer.step()\n",
    "        \n",
    "        running_loss += loss.item()\n",
    "    else:\n",
    "        print(\"Epoch {} - Training loss: {}\".format(e, running_loss/len(trainloader)))\n",
    "        epoch_loss = running_loss / len(trainloader)\n",
    "        training_loss.append(epoch_loss)\n",
    "print(\"\\nTraining Time (in minutes) =\",(time()-time0)/60)"
   ]
  },
  {
   "cell_type": "code",
   "execution_count": null,
   "id": "167cae3407f036c1",
   "metadata": {
    "ExecuteTime": {
     "end_time": "2023-09-25T19:59:58.613742Z",
     "start_time": "2023-09-25T19:59:58.545044Z"
    },
    "collapsed": false,
    "jupyter": {
     "outputs_hidden": false
    }
   },
   "outputs": [],
   "source": [
    "# Plot the training loss over epochs\n",
    "plt.figure(figsize=(10, 6))\n",
    "plt.plot(range(epochs), training_loss, marker='o')\n",
    "plt.title('Training Loss over Epochs')\n",
    "plt.xlabel('Epoch')\n",
    "plt.ylabel('Training Loss')\n",
    "plt.show()"
   ]
  },
  {
   "cell_type": "code",
   "execution_count": null,
   "id": "7c3ab2ffb634518e",
   "metadata": {
    "ExecuteTime": {
     "end_time": "2023-09-25T19:59:58.617794Z",
     "start_time": "2023-09-25T19:59:58.614347Z"
    },
    "collapsed": false,
    "jupyter": {
     "outputs_hidden": false
    }
   },
   "outputs": [],
   "source": [
    "def view_classify(img, ps):\n",
    "    ''' Function for viewing an image and it's predicted classes.\n",
    "    '''\n",
    "    ps = ps.data.numpy().squeeze()\n",
    "\n",
    "    fig, (ax1, ax2) = plt.subplots(figsize=(6,9), ncols=2)\n",
    "    ax1.imshow(img.resize_(1, 28, 28).numpy().squeeze())\n",
    "    ax1.axis('off')\n",
    "    ax2.barh(np.arange(10), ps)\n",
    "    ax2.set_aspect(0.1)\n",
    "    ax2.set_yticks(np.arange(10))\n",
    "    ax2.set_yticklabels(np.arange(10))\n",
    "    ax2.set_title('Class Probability')\n",
    "    ax2.set_xlim(0, 1.1)\n",
    "    plt.tight_layout()\n",
    "     "
   ]
  },
  {
   "cell_type": "code",
   "execution_count": null,
   "id": "efe615adfbec3931",
   "metadata": {
    "ExecuteTime": {
     "end_time": "2023-09-25T19:59:58.757415Z",
     "start_time": "2023-09-25T19:59:58.617259Z"
    },
    "collapsed": false,
    "jupyter": {
     "outputs_hidden": false
    }
   },
   "outputs": [],
   "source": [
    "images, labels = next(iter(valloader))\n",
    "\n",
    "img = images[0].view(1, 784)\n",
    "with torch.no_grad():\n",
    "    logps = model(img)\n",
    "\n",
    "ps = torch.exp(logps)\n",
    "probab = list(ps.numpy()[0])\n",
    "print(\"Predicted Digit =\", probab.index(max(probab)))\n",
    "view_classify(img.view(1, 28, 28), ps)"
   ]
  },
  {
   "cell_type": "code",
   "execution_count": 11,
   "id": "396589dcdb0ab197",
   "metadata": {
    "ExecuteTime": {
     "end_time": "2023-09-25T20:15:28.833096Z",
     "start_time": "2023-09-25T20:15:28.070400Z"
    },
    "collapsed": false,
    "jupyter": {
     "outputs_hidden": false
    }
   },
   "outputs": [
    {
     "name": "stdout",
     "output_type": "stream",
     "text": [
      "Number Of Images Tested = 10000\n",
      "\n",
      "Model Accuracy = 0.9758\n"
     ]
    }
   ],
   "source": [
    "correct_count, all_count = 0, 0\n",
    "for images,labels in valloader:\n",
    "  for i in range(len(labels)):\n",
    "    img = images[i].view(1, 784)\n",
    "    with torch.no_grad():\n",
    "        logps = model(img)\n",
    "\n",
    "    \n",
    "    ps = torch.exp(logps)\n",
    "    probab = list(ps.numpy()[0])\n",
    "    pred_label = probab.index(max(probab))\n",
    "    true_label = labels.numpy()[i]\n",
    "    if(true_label == pred_label):\n",
    "      correct_count += 1\n",
    "    all_count += 1\n",
    "    \n",
    "\n",
    "print(\"Number Of Images Tested =\", all_count)\n",
    "print(\"\\nModel Accuracy =\", (correct_count/all_count))\n"
   ]
  },
  {
   "cell_type": "markdown",
   "id": "8c86675cb572d962",
   "metadata": {
    "collapsed": false,
    "jupyter": {
     "outputs_hidden": false
    }
   },
   "source": [
    "## Code for question (c)"
   ]
  },
  {
   "cell_type": "code",
   "execution_count": 10,
   "id": "d9b72b99f9f58bcc",
   "metadata": {
    "ExecuteTime": {
     "end_time": "2023-09-25T20:21:20.447935Z",
     "start_time": "2023-09-25T20:20:52.451764Z"
    },
    "collapsed": false,
    "jupyter": {
     "outputs_hidden": false
    }
   },
   "outputs": [
    {
     "name": "stderr",
     "output_type": "stream",
     "text": [
      "2023-09-25 16:33:44.609 Python[6489:186430] apply_selection_policy_once: avoid use of removable GPUs (via org.python.python:GPUSelectionPolicy->avoidRemovable)\n"
     ]
    },
    {
     "name": "stdout",
     "output_type": "stream",
     "text": [
      "Epoch 0 - Training loss: 0.593237796000072 - Validation loss: 0.30188314218050355\n",
      "Epoch 1 - Training loss: 0.2682839208510893 - Validation loss: 0.22578119144887682\n",
      "Epoch 2 - Training loss: 0.20141686527316632 - Validation loss: 0.18199618687485433\n",
      "Epoch 3 - Training loss: 0.15931141874723154 - Validation loss: 0.14313616492091472\n",
      "Epoch 4 - Training loss: 0.12965013779628315 - Validation loss: 0.1326391415041723\n",
      "Epoch 5 - Training loss: 0.1093552576443518 - Validation loss: 0.1131610331380633\n",
      "Epoch 6 - Training loss: 0.09448144358517264 - Validation loss: 0.09899419383590768\n",
      "Epoch 7 - Training loss: 0.0819925853236914 - Validation loss: 0.09267775292039677\n",
      "Epoch 8 - Training loss: 0.07202244047343588 - Validation loss: 0.08647603151287622\n",
      "Epoch 9 - Training loss: 0.06412591774469373 - Validation loss: 0.09429315170925703\n",
      "Epoch 10 - Training loss: 0.05791043893628712 - Validation loss: 0.08515049687106234\n",
      "Epoch 11 - Training loss: 0.0515922356986685 - Validation loss: 0.07724414368688017\n",
      "Epoch 12 - Training loss: 0.04644962131276107 - Validation loss: 0.07259069973970675\n",
      "Epoch 13 - Training loss: 0.04127680013469581 - Validation loss: 0.06990354729276506\n",
      "Epoch 14 - Training loss: 0.037252693792739544 - Validation loss: 0.07548142528268183\n"
     ]
    },
    {
     "data": {
      "image/png": "[encoded data removed]",
      "text/plain": [
       "<Figure size 1000x600 with 1 Axes>"
      ]
     },
     "metadata": {},
     "output_type": "display_data"
    }
   ],
   "source": [
    "optimizer = optim.SGD(model.parameters(), lr=0.003, momentum=0.9)\n",
    "# Initialize lists to store the training and validation losses\n",
    "training_losses = []\n",
    "validation_losses = []\n",
    "\n",
    "# Set the number of epochs for training\n",
    "epochs = 15\n",
    "\n",
    "# Start the training loop\n",
    "for e in range(epochs):\n",
    "    running_loss = 0\n",
    "    # Training Loop\n",
    "    for images, labels in trainloader:\n",
    "        # Flatten MNIST images into a 784 long vector\n",
    "        images = images.view(images.shape[0], -1)\n",
    "        \n",
    "        # Zero the parameter gradients\n",
    "        optimizer.zero_grad()\n",
    "        \n",
    "        # Forward pass: compute predictions by passing inputs through the model\n",
    "        output = model(images)\n",
    "        \n",
    "        # Compute the loss between the model output and the true labels\n",
    "        loss = criterion(output, labels)\n",
    "        \n",
    "        # Backward pass: compute gradient of the loss with respect to model parameters\n",
    "        loss.backward()\n",
    "        \n",
    "        # Perform a single optimization step (parameter update)\n",
    "        optimizer.step()\n",
    "        \n",
    "        # Update the running loss\n",
    "        running_loss += loss.item()\n",
    "        \n",
    "    # Calculate the training loss for the current epoch\n",
    "    training_loss = running_loss / len(trainloader)\n",
    "    training_losses.append(training_loss)\n",
    "    \n",
    "    # Validation Loop\n",
    "    validation_loss = 0\n",
    "    with torch.no_grad():\n",
    "        for images, labels in valloader:\n",
    "            # Flatten MNIST images into a 784 long vector\n",
    "            images = images.view(images.shape[0], -1)\n",
    "            \n",
    "            # Forward pass: compute predictions by passing inputs through the model\n",
    "            output = model(images)\n",
    "            \n",
    "            # Compute the loss between the model output and the true labels\n",
    "            loss = criterion(output, labels)\n",
    "            \n",
    "            # Update the running validation loss\n",
    "            validation_loss += loss.item()\n",
    "    \n",
    "    # Calculate the validation loss for the current epoch\n",
    "    validation_loss = validation_loss / len(valloader)\n",
    "    validation_losses.append(validation_loss)\n",
    "    \n",
    "    # Print the training and validation losses for the current epoch\n",
    "    print(f\"Epoch {e} - Training loss: {training_loss} - Validation loss: {validation_loss}\")\n",
    "\n",
    "# Plot the training and validation losses over epochs\n",
    "plt.figure(figsize=(10, 6))\n",
    "plt.plot(range(epochs), training_losses, marker='o', label='Training Loss')\n",
    "plt.plot(range(epochs), validation_losses, marker='o', label='Validation Loss')\n",
    "plt.title('Training and Validation Loss over Epochs')\n",
    "plt.xlabel('Epoch')\n",
    "plt.ylabel('Loss')\n",
    "plt.legend()\n",
    "plt.show()\n"
   ]
  },
  {
   "cell_type": "markdown",
   "id": "96bf8fe1-8996-4593-95b3-73668d73037c",
   "metadata": {
    "collapsed": false,
    "jupyter": {
     "outputs_hidden": false
    }
   },
   "source": [
    "## Code for question (d)"
   ]
  },
  {
   "cell_type": "code",
   "execution_count": null,
   "id": "dadee5a4-303e-423a-90f1-a0024324b70c",
   "metadata": {},
   "outputs": [
    {
     "name": "stderr",
     "output_type": "stream",
     "text": [
      "2023-09-25 16:44:03.897 Python[6557:189607] apply_selection_policy_once: avoid use of removable GPUs (via org.python.python:GPUSelectionPolicy->avoidRemovable)\n"
     ]
    }
   ],
   "source": [
    "# Define the number of input and output neurons\n",
    "input_size = 784\n",
    "output_size = 10\n",
    "\n",
    "# Define different numbers of neurons for the hidden layers\n",
    "hidden_layer_configurations = [\n",
    "    [128, 64],\n",
    "    [256, 128],\n",
    "    [512, 256],\n",
    "    [1024, 512],\n",
    "    [2048, 1024],\n",
    "    [4096, 2048],\n",
    "    [8192, 4096],\n",
    "    \n",
    "]\n",
    "\n",
    "# Initialize lists to store the training and validation losses for each configuration\n",
    "all_training_losses = []\n",
    "all_validation_losses = []\n",
    "\n",
    "# Initialize a list to store the final accuracy for each configuration\n",
    "final_accuracies = []\n",
    "\n",
    "# Set the number of epochs for training\n",
    "epochs = 15\n",
    "\n",
    "# Iterate over different hidden layer configurations\n",
    "for hidden_sizes in hidden_layer_configurations:\n",
    "    # Define the model architecture using a Sequential container\n",
    "    model = nn.Sequential(nn.Linear(input_size, hidden_sizes[0]),\n",
    "                          nn.ReLU(),\n",
    "                          nn.Linear(hidden_sizes[0], hidden_sizes[1]),\n",
    "                          nn.ReLU(),\n",
    "                          nn.Linear(hidden_sizes[1], output_size),\n",
    "                          nn.LogSoftmax(dim=1))\n",
    "    \n",
    "    # Define the loss function and optimizer\n",
    "    criterion = nn.NLLLoss()\n",
    "    optimizer = optim.SGD(model.parameters(), lr=0.003, momentum=0.9)\n",
    "    \n",
    "    # Initialize lists to store the training and validation losses for the current configuration\n",
    "    training_losses = []\n",
    "    validation_losses = []\n",
    "    \n",
    "    # Start the training loop\n",
    "    for e in range(epochs):\n",
    "        running_loss = 0\n",
    "        for images, labels in trainloader:\n",
    "        # Flatten MNIST images into a 784 long vector\n",
    "            images = images.view(images.shape[0], -1)\n",
    "        \n",
    "        # Zero the parameter gradients\n",
    "            optimizer.zero_grad()\n",
    "        \n",
    "        # Forward pass: compute predictions by passing inputs through the model\n",
    "            output = model(images)\n",
    "        \n",
    "        # Compute the loss between the model output and the true labels\n",
    "            loss = criterion(output, labels)\n",
    "            \n",
    "        # Backward pass: compute gradient of the loss with respect to model parameters\n",
    "            loss.backward()\n",
    "        \n",
    "        # Perform a single optimization step (parameter update)\n",
    "            optimizer.step()\n",
    "        \n",
    "        # Update the running loss\n",
    "            running_loss += loss.item()\n",
    "        \n",
    "    # Calculate the training loss for the current epoch\n",
    "        training_loss = running_loss / len(trainloader)\n",
    "        training_losses.append(training_loss)\n",
    "        \n",
    "        # Validation Loop\n",
    "        validation_loss = 0\n",
    "        with torch.no_grad():\n",
    "            for images, labels in valloader:\n",
    "            # Flatten MNIST images into a 784 long vector\n",
    "                images = images.view(images.shape[0], -1)\n",
    "            \n",
    "            # Forward pass: compute predictions by passing inputs through the model\n",
    "                output = model(images)\n",
    "            \n",
    "            # Compute the loss between the model output and the true labels\n",
    "                loss = criterion(output, labels)\n",
    "            \n",
    "            # Update the running validation loss\n",
    "                validation_loss += loss.item()\n",
    "    \n",
    "    # Calculate the validation loss for the current epoch\n",
    "        validation_loss = validation_loss / len(valloader)\n",
    "        validation_losses.append(validation_loss)\n",
    "    \n",
    "    # Append the training and validation losses for the current configuration\n",
    "    all_training_losses.append(training_losses)\n",
    "    all_validation_losses.append(validation_losses)\n",
    "    \n",
    "    # Calculate the final accuracy on the validation set for the current configuration\n",
    "    correct_count, all_count = 0, 0\n",
    "    for images, labels in valloader:\n",
    "        for i in range(len(labels)):\n",
    "            img = images[i].view(1, 784)\n",
    "            with torch.no_grad():\n",
    "                logps = model(img)\n",
    "            ps = torch.exp(logps)\n",
    "            probab = list(ps.numpy()[0])\n",
    "            pred_label = probab.index(max(probab))\n",
    "            true_label = labels.numpy()[i]\n",
    "            if (true_label == pred_label):\n",
    "                correct_count += 1\n",
    "            all_count += 1\n",
    "    final_accuracy = correct_count / all_count\n",
    "    final_accuracies.append(final_accuracy)\n",
    "\n",
    "# Plot the training and validation losses for each configuration\n",
    "plt.figure(figsize=(12, 6))\n",
    "for i, hidden_sizes in enumerate(hidden_layer_configurations):\n",
    "    plt.plot(range(epochs), all_training_losses[i], label=f'Training Loss - {hidden_sizes}')\n",
    "    plt.plot(range(epochs), all_validation_losses[i], label=f'Validation Loss - {hidden_sizes}', linestyle='dashed')\n",
    "plt.title('Training and Validation Loss over Epochs for Different Hidden Layer Sizes')\n",
    "plt.xlabel('Epoch')\n",
    "plt.ylabel('Loss')\n",
    "plt.legend()\n",
    "plt.show()\n",
    "\n",
    "# Print the final accuracy for each configuration\n",
    "for i, hidden_sizes in enumerate(hidden_layer_configurations):\n",
    "    print(f\"Final Accuracy for {hidden_sizes} hidden neurons: {final_accuracies[i]}\")\n"
   ]
  },
  {
   "cell_type": "code",
   "execution_count": null,
   "id": "c4bffd4d-5b9c-4c7d-8bec-84c553163bf4",
   "metadata": {},
   "outputs": [],
   "source": []
  }
 ],
 "metadata": {
  "kernelspec": {
   "display_name": "Python 3 (ipykernel)",
   "language": "python",
   "name": "python3"
  },
  "language_info": {
   "codemirror_mode": {
    "name": "ipython",
    "version": 3
   },
   "file_extension": ".py",
   "mimetype": "text/x-python",
   "name": "python",
   "nbconvert_exporter": "python",
   "pygments_lexer": "ipython3",
   "version": "3.10.8"
  }
 },
 "nbformat": 4,
 "nbformat_minor": 5
}
